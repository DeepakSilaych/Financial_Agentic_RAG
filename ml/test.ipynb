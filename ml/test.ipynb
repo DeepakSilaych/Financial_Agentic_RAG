{
 "cells": [
  {
   "cell_type": "code",
   "execution_count": 2,
   "metadata": {},
   "outputs": [],
   "source": [
    "from langgraph.graph import StateGraph, END, START, MessagesState\n",
    "from langchain_core.tools import tool\n",
    "from langgraph.types import Send\n",
    "from langchain_openai import ChatOpenAI\n",
    "\n",
    "@tool\n",
    "def get_weather(city: str):\n",
    "    \"\"\"Get the weather for a specific city\"\"\"\n",
    "    return f\"It's sunny in {city}!\"\n",
    "\n",
    "\n",
    "raw_model = ChatOpenAI()\n",
    "model = raw_model.with_structured_output(get_weather)\n",
    "\n",
    "class SubGraphState(MessagesState):\n",
    "    city: str\n",
    "\n",
    "\n",
    "def model_node(state: SubGraphState):\n",
    "    result = model.invoke(state[\"messages\"])\n",
    "    return {\"city\": result[\"city\"]}\n",
    "\n",
    "\n",
    "def weather_node(state: SubGraphState):\n",
    "    result = get_weather.invoke({\"city\": state[\"city\"]})\n",
    "    return {\"messages\": [{\"role\": \"assistant\", \"content\": result}]}\n",
    "\n",
    "\n",
    "subgraph = StateGraph(SubGraphState)\n",
    "subgraph.add_node(model_node)\n",
    "subgraph.add_node(weather_node)\n",
    "subgraph.add_edge(START, \"model_node\")\n",
    "subgraph.add_edge(\"model_node\", \"weather_node\")\n",
    "subgraph.add_edge(\"weather_node\", END)\n",
    "subgraph = subgraph.compile(interrupt_before=[\"weather_node\"])\n",
    "# subgraph = subgraph.compile()"
   ]
  },
  {
   "cell_type": "code",
   "execution_count": 3,
   "metadata": {},
   "outputs": [],
   "source": [
    "import time\n",
    "    \n",
    "@tool\n",
    "def get_weather(city: str):\n",
    "    \"\"\"Get the weather for a specific city\"\"\"\n",
    "    return f\"It's sunny in {city}!\"\n",
    "\n",
    "\n",
    "raw_model = ChatOpenAI()\n",
    "model = raw_model.with_structured_output(get_weather)\n",
    "\n",
    "class SubGraphState(MessagesState):\n",
    "    city: str\n",
    "\n",
    "\n",
    "def model_node(state: SubGraphState):\n",
    "    result = model.invoke(state[\"messages\"])\n",
    "    # time.sleep(5)\n",
    "    return {\"city\": result[\"city\"]}\n",
    "\n",
    "\n",
    "def weather_node1(state: SubGraphState):\n",
    "    result = get_weather.invoke({\"city\": state[\"city\"]})\n",
    "    # time.sleep(5)\n",
    "    return {\"messages\": [{\"role\": \"assistant\", \"content\": result}]}\n",
    "\n",
    "\n",
    "subgraph2 = StateGraph(SubGraphState)\n",
    "subgraph2.add_node(model_node)\n",
    "subgraph2.add_node(weather_node1)\n",
    "subgraph2.add_edge(START, \"model_node\")\n",
    "subgraph2.add_edge(\"model_node\", \"weather_node1\")\n",
    "subgraph2.add_edge(\"weather_node1\", END)\n",
    "# subgraph2 = subgraph2.compile()\n",
    "subgraph2 = subgraph2.compile(interrupt_after=[\"weather_node1\"])"
   ]
  },
  {
   "cell_type": "code",
   "execution_count": 4,
   "metadata": {},
   "outputs": [
    {
     "data": {
      "image/png": "[encoded data removed]",
      "text/plain": [
       "<IPython.core.display.Image object>"
      ]
     },
     "metadata": {},
     "output_type": "display_data"
    }
   ],
   "source": [
    "from IPython.display import Image, display\n",
    "\n",
    "# Setting xray to 1 will show the internal structure of the nested graph\n",
    "display(Image(subgraph2.get_graph(xray=1).draw_mermaid_png()))"
   ]
  },
  {
   "cell_type": "code",
   "execution_count": 5,
   "metadata": {},
   "outputs": [],
   "source": [
    "from typing import Literal\n",
    "from typing_extensions import TypedDict\n",
    "from langgraph.checkpoint.memory import MemorySaver\n",
    "\n",
    "# Initialize memory saver to track the state of the graph\n",
    "memory = MemorySaver()\n",
    "\n",
    "class RouterState(MessagesState):\n",
    "    route: Literal[\"weather\", \"other\"]\n",
    "\n",
    "\n",
    "class Router(TypedDict):\n",
    "    route: Literal[\"weather\", \"other\"]\n",
    "\n",
    "# Define the model for structured output of the router\n",
    "router_model = raw_model.with_structured_output(Router)\n",
    "\n",
    "# Router node which decides the route\n",
    "def router_node(state: RouterState):\n",
    "    system_message = \"Classify the incoming query as either about weather or not.\"\n",
    "    messages = [{\"role\": \"system\", \"content\": system_message}] + state[\"messages\"]\n",
    "    print(f\"Router Node: Incoming messages: {messages}\")  # Debugging log\n",
    "    route = router_model.invoke(messages)\n",
    "    print(f\"Router Node: Decided route: {route['route']}\")  # Debugging log\n",
    "    return {\"route\": route[\"route\"]}\n",
    "\n",
    "# Normal LLM node for non-weather queries\n",
    "def normal_llm_node(state: RouterState):\n",
    "    print(f\"Normal LLM Node: Processing messages: {state['messages']}\")  # Debugging log\n",
    "    response = raw_model.invoke(state[\"messages\"])\n",
    "    print(f\"Normal LLM Node: Response: {response}\")  # Debugging log\n",
    "    return {\"messages\": [response]}\n",
    "\n",
    "# Conditional routing after the prediction from the router node\n",
    "def route_after_prediction(state: RouterState) -> Literal[\"weather_graph\", \"weather_graph2\"]:\n",
    "    print(f\"Route After Prediction: route is {state['route']}\")  # Debugging log\n",
    "    if state[\"route\"] == \"weather\" or 1:\n",
    "        send_list = [Send(\"weather_graph\", {\"messages\": state[\"messages\"]}) for _ in range(3)]\n",
    "        print(f\"Route After Prediction: Sending to weather_graph 3 times\")  # Debugging log\n",
    "        return send_list\n",
    "    else:\n",
    "        send_list = [Send(\"weather_graph2\", {\"messages\": state[\"messages\"]}),]\n",
    "        print(f\"Route After Prediction: Sending to weather_graph2\")  # Debugging log\n",
    "        return send_list\n",
    "\n",
    "# Define the state graph\n",
    "graph = StateGraph(RouterState)\n",
    "\n",
    "# Add nodes to the graph\n",
    "graph.add_node(router_node)\n",
    "# graph.add_node(normal_llm_node)\n",
    "graph.add_node(\"weather_graph\", subgraph)\n",
    "graph.add_node(\"weather_graph2\", subgraph2)\n",
    "\n",
    "# Define edges\n",
    "graph.add_edge(START, \"router_node\")\n",
    "graph.add_edge(\"router_node\", \"weather_graph2\")\n",
    "graph.add_conditional_edges(\"router_node\", route_after_prediction)\n",
    "# graph.add_edge(\"router_node\", normal_llm_node)\n",
    "# graph.add_edge(\"normal_llm_node\", END)\n",
    "# graph.add_edge(\"normal_llm_node\", END)\n",
    "graph.add_edge(\"weather_graph\", END)\n",
    "graph.add_edge(\"weather_graph2\", END)\n",
    "\n",
    "# Compile the graph with checkpointing enabled\n",
    "graph = graph.compile(checkpointer=memory)\n",
    "\n",
    "# You can now test this graph\n"
   ]
  },
  {
   "cell_type": "code",
   "execution_count": 6,
   "metadata": {},
   "outputs": [
    {
     "data": {
      "image/png": "[encoded data removed]",
      "text/plain": [
       "<IPython.core.display.Image object>"
      ]
     },
     "metadata": {},
     "output_type": "display_data"
    }
   ],
   "source": [
    "from IPython.display import Image, display\n",
    "\n",
    "# Setting xray to 1 will show the internal structure of the nested graph\n",
    "display(Image(graph.get_graph(xray=1).draw_mermaid_png()))"
   ]
  },
  {
   "cell_type": "code",
   "execution_count": 7,
   "metadata": {},
   "outputs": [
    {
     "name": "stdout",
     "output_type": "stream",
     "text": [
      "Router Node: Incoming messages: [{'role': 'system', 'content': 'Classify the incoming query as either about weather or not.'}, HumanMessage(content='hi!', additional_kwargs={}, response_metadata={}, id='2b5fc308-da41-4ff4-b153-77f25b7828d7')]\n",
      "Router Node: Decided route: other\n",
      "Route After Prediction: route is other\n",
      "Route After Prediction: Sending to weather_graph 3 times\n",
      "{'router_node': {'route': 'other'}}\n",
      "{'__interrupt__': ()}\n"
     ]
    }
   ],
   "source": [
    "config = {\"configurable\": {\"thread_id\": \"1\"}}\n",
    "inputs = {\"messages\": [{\"role\": \"user\", \"content\": \"hi!\"}]}\n",
    "for update in graph.stream(inputs, config=config, stream_mode=\"updates\"):\n",
    "    print(update)"
   ]
  },
  {
   "cell_type": "code",
   "execution_count": 8,
   "metadata": {},
   "outputs": [
    {
     "name": "stdout",
     "output_type": "stream",
     "text": [
      "Router Node: Incoming messages: [{'role': 'system', 'content': 'Classify the incoming query as either about weather or not.'}, HumanMessage(content=\"what's the weather in sf\", additional_kwargs={}, response_metadata={}, id='f3373d30-364d-4a11-a472-10b80f20249e')]\n",
      "Router Node: Decided route: weather\n",
      "Route After Prediction: route is weather\n",
      "Route After Prediction: Sending to weather_graph 3 times\n",
      "{'router_node': {'route': 'weather'}}\n",
      "{'__interrupt__': ()}\n"
     ]
    }
   ],
   "source": [
    "config = {\"configurable\": {\"thread_id\": \"2\"}}\n",
    "inputs = {\"messages\": [{\"role\": \"user\", \"content\": \"what's the weather in sf\"}]}\n",
    "for update in graph.stream(inputs, config=config, stream_mode=\"updates\"):\n",
    "    print(update)"
   ]
  },
  {
   "cell_type": "code",
   "execution_count": 9,
   "metadata": {},
   "outputs": [],
   "source": [
    "state = graph.get_state(config, subgraphs=True)"
   ]
  },
  {
   "cell_type": "code",
   "execution_count": 35,
   "metadata": {},
   "outputs": [
    {
     "name": "stdout",
     "output_type": "stream",
     "text": [
      "Route After Prediction: route is weather\n",
      "Route After Prediction: Sending to weather_graph 3 times\n"
     ]
    },
    {
     "data": {
      "text/plain": [
       "<langgraph.graph.state.CompiledStateGraph at 0x7f80071a5690>"
      ]
     },
     "execution_count": 35,
     "metadata": {},
     "output_type": "execute_result"
    }
   ],
   "source": [
    "graph.update_state(config, values={\"route\": \"weather\"})\n",
    "graph"
   ]
  },
  {
   "cell_type": "code",
   "execution_count": 38,
   "metadata": {},
   "outputs": [
    {
     "data": {
      "text/plain": [
       "StateSnapshot(values={}, next=(), config={'configurable': {'__pregel_checkpointer': <langgraph.checkpoint.memory.MemorySaver object at 0x7f8007211dd0>, 'thread_id': '2', 'checkpoint_ns': 'weather_graph:d6d22f8a-a9e4-cc39-5eed-e0a6fd44b366'}}, metadata=None, created_at=None, parent_config=None, tasks=())"
      ]
     },
     "execution_count": 38,
     "metadata": {},
     "output_type": "execute_result"
    }
   ],
   "source": [
    "state = graph.get_state(config, subgraphs=True)\n",
    "state.tasks[0].state"
   ]
  },
  {
   "cell_type": "code",
   "execution_count": null,
   "metadata": {},
   "outputs": [
    {
     "name": "stdout",
     "output_type": "stream",
     "text": [
      "{'__interrupt__': ()}\n"
     ]
    }
   ],
   "source": [
    "StateSnapshot(values={'messages': [HumanMessage(content=\"what's the weather in sf\", additional_kwargs={}, response_metadata={}, id='f3373d30-364d-4a11-a472-10b80f20249e')], 'route': 'weather'}, next=('weather_graph', 'weather_graph', 'weather_graph', 'weather_graph2'), config={'configurable': {'thread_id': '2', 'checkpoint_ns': '', 'checkpoint_id': '1efae91d-78d6-663d-8006-02e8c57187ea'}}, metadata={'source': 'update', 'writes': {'router_node': {'route': 'weather'}}, 'thread_id': '2', 'step': 6, 'parents': {}}, created_at='2024-11-29T20:38:08.163353+00:00', parent_config={'configurable': {'thread_id': '2', 'checkpoint_ns': '', 'checkpoint_id': '1efae91c-809a-62a2-8005-b89743a9e3f8'}}, tasks=(PregelTask(id='d40410eb-a4a1-36d2-78de-1dfff1e01644', name='weather_graph', path=('__pregel_push', 0), error=None, interrupts=(), state=StateSnapshot(values={}, next=(), config={'configurable': {'__pregel_checkpointer': <langgraph.checkpoint.memory.MemorySaver object at 0x7f8007211dd0>, 'thread_id': '2', 'checkpoint_ns': 'weather_graph:d40410eb-a4a1-36d2-78de-1dfff1e01644'}}, metadata=None, created_at=None, parent_config=None, tasks=()), result=None), PregelTask(id='70a1acee-a2ad-2037-9a1f-ee6d1054caee', name='weather_graph', path=('__pregel_push', 1), error=None, interrupts=(), state=StateSnapshot(values={}, next=(), config={'configurable': {'__pregel_checkpointer': <langgraph.checkpoint.memory.MemorySaver object at 0x7f8007211dd0>, 'thread_id': '2', 'checkpoint_ns': 'weather_graph:70a1acee-a2ad-2037-9a1f-ee6d1054caee'}}, metadata=None, created_at=None, parent_config=None, tasks=()), result=None), PregelTask(id='bf09075d-ae2c-7e73-ab29-a153f4d3c523', name='weather_graph', path=('__pregel_push', 2), error=None, interrupts=(), state=StateSnapshot(values={}, next=(), config={'configurable': {'__pregel_checkpointer': <langgraph.checkpoint.memory.MemorySaver object at 0x7f8007211dd0>, 'thread_id': '2', 'checkpoint_ns': 'weather_graph:bf09075d-ae2c-7e73-ab29-a153f4d3c523'}}, metadata=None, created_at=None, parent_config=None, tasks=()), result=None), PregelTask(id='1c88fc4a-dd20-bd40-fec7-a64bd3295342', name='weather_graph2', path=('__pregel_pull', 'weather_graph2'), error=None, interrupts=(), state=StateSnapshot(values={}, next=(), config={'configurable': {'__pregel_checkpointer': <langgraph.checkpoint.memory.MemorySaver object at 0x7f8007211dd0>, 'thread_id': '2', 'checkpoint_ns': 'weather_graph2:1c88fc4a-dd20-bd40-fec7-a64bd3295342'}}, metadata=None, created_at=None, parent_config=None, tasks=()), result=None)))"
   ]
  },
  {
   "cell_type": "code",
   "execution_count": 5,
   "metadata": {},
   "outputs": [
    {
     "name": "stdout",
     "output_type": "stream",
     "text": [
      "response: ChatCompletion(id='chatcmpl-AZEefwhf8aaWjm4dr5YLByimvLRV6', choices=[Choice(finish_reason='stop', index=0, logprobs=None, message=ChatCompletionMessage(content='The image depicts two characters in an animated style, standing on a staircase. They are facing each other closely, almost touching foreheads, suggesting an intimate or emotional moment. \\n\\n- **Character Details**: \\n  - The boy has short, tousled black hair and is wearing a dark suit with a white shirt and tie. He carries a backpack.\\n  - The girl has long, dark hair and is dressed in a light pink top and pants, holding a brown bag.\\n\\n- **Setting**: The background features a sunlit outdoor area with greenery, including plants and a rock wall. The setting feels serene and might suggest a transitional moment in the story.\\n\\n- **Atmosphere**: The lighting gives a warm, vibrant feeling, enhancing the emotional tension between the two characters.\\n\\nOverall, the scene conveys a sense of connection and possibly a significant moment in their relationship.', refusal=None, role='assistant', audio=None, function_call=None, tool_calls=None))], created=1732961177, model='gpt-4o-mini-2024-07-18', object='chat.completion', service_tier=None, system_fingerprint='fp_3de1288069', usage=CompletionUsage(completion_tokens=175, prompt_tokens=48213, total_tokens=48388, completion_tokens_details=CompletionTokensDetails(accepted_prediction_tokens=0, audio_tokens=0, reasoning_tokens=0, rejected_prediction_tokens=0), prompt_tokens_details=PromptTokensDetails(audio_tokens=0, cached_tokens=0)))\n",
      "Desription: The image depicts two characters in an animated style, standing on a staircase. They are facing each other closely, almost touching foreheads, suggesting an intimate or emotional moment. \n",
      "\n",
      "- **Character Details**: \n",
      "  - The boy has short, tousled black hair and is wearing a dark suit with a white shirt and tie. He carries a backpack.\n",
      "  - The girl has long, dark hair and is dressed in a light pink top and pants, holding a brown bag.\n",
      "\n",
      "- **Setting**: The background features a sunlit outdoor area with greenery, including plants and a rock wall. The setting feels serene and might suggest a transitional moment in the story.\n",
      "\n",
      "- **Atmosphere**: The lighting gives a warm, vibrant feeling, enhancing the emotional tension between the two characters.\n",
      "\n",
      "Overall, the scene conveys a sense of connection and possibly a significant moment in their relationship.\n"
     ]
    }
   ],
   "source": [
    "import openai\n",
    "import base64\n",
    "import os\n",
    "\n",
    "client = openai.OpenAI( api_key=os.getenv(\"OPENAI_API_KEY\"))\n",
    "THIS_MODEL = \"gpt-4o-mini\"\n",
    "# Function to encode the image\n",
    "def encode_image(image_path):\n",
    "    with open(image_path, \"rb\") as image_file:\n",
    "        return base64.b64encode(image_file.read()).decode('utf-8')\n",
    "\n",
    "image_path = \"image.png\"\n",
    "\n",
    "# Getting the base64 string\n",
    "base64_image = encode_image(image_path)\n",
    "\n",
    "# Send the request to the API\n",
    "response = client.chat.completions.create(\n",
    "        model=THIS_MODEL,\n",
    "        messages=[\n",
    "            {\n",
    "                \"role\": \"system\",\n",
    "                \"content\": [\n",
    "                    {\"type\": \"text\",\n",
    "                    \"text\": \"You are a image analyst.  Your goal is to describe what is in the image provided as a file to the greatest detail possible.\"\n",
    "                    }\n",
    "                ],\n",
    "            },\n",
    "            {\n",
    "                \"role\": \"user\",\n",
    "                \"content\": [\n",
    "                    {\n",
    "                        \"type\":\"text\",\n",
    "                        \"text\": \"What is in this image?\"\n",
    "                    },\n",
    "                    {\n",
    "                        \"type\": \"image_url\",\n",
    "                        \"image_url\": \n",
    "                            {\n",
    "                                \"url\": f\"data:image/jpeg;base64,{base64_image}\"\n",
    "                            }\n",
    "                    }\n",
    "                ]\n",
    "            }\n",
    "        ],\n",
    "        max_tokens=300\n",
    "    )\n",
    "print(f\"response: {response}\")\n",
    "# Extract the description\n",
    "description = response.choices[0].message.content\n",
    "print(f\"Desription: {description}\")\n",
    "\n"
   ]
  },
  {
   "cell_type": "code",
   "execution_count": 25,
   "metadata": {},
   "outputs": [
    {
     "name": "stdout",
     "output_type": "stream",
     "text": [
      "### Detailed description of the image in high detail\n",
      "\n",
      "The image consists of three heatmap plots side by side, each titled with different model names: \"GPT-4o\", \"Gemini-v1.5\", and \"LLaVA-v1.5-7B\". The heatmaps plot \"Needle Depth (%)\" against the \"Number of Images\", with values indicating raw accuracy. The y-axis, labeled \"Needle Depth (%)\", ranges from 0-10% to 90-100%, and the x-axis represents the number of images, specifically 1, 2, 3, 5, 10, 20, 50, and 100. A color gradient from green to red indicates the raw accuracy scale from 1 to 0.5, with gray boxes on the \"LLaVA-v1.5-7B\" plot indicating missing data. Below the plots, a figure caption explains the context of the data, specifically referencing a benchmark (VHs) and discussing the impact of \"needle position\" on performance.\n",
      "\n",
      "### Text in the image - Don't miss any text\n",
      "\n",
      "- **GPT-4o**\n",
      "- **Gemini-v1.5**\n",
      "- **LLaVA-v1.5-7B**\n",
      "- **Needle Depth (%)**\n",
      "- **Number of Images**\n",
      "- **Raw Accuracy**\n",
      "- Caption: \"Figure 2: Plots showing needle position, vs. performance on the VHs benchmark for several image settings. We can see that for existing LMMs, the needle position is extremely important, with performance degradation of up to 41% when the needle is not placed in the optimal location in the input context. The gray boxes in the LLaVA results indicate that these experiments exceed the available context length (and performance is accordingly random).\"\n",
      "\n",
      "### Numbers in the image - This is very important\n",
      "\n",
      "- Needle Depth %: 0-10%, 10-20%, 20-30%, 30-40%, 40-50%, 50-60%, 60-70%, 70-80%, 80-90%, 90-100%\n",
      "- Number of Images: 1, 2, 3, 5, 10, 20, 50, 100\n",
      "- GPT-4o heatmap values: \n",
      "  - Example: 0.85, 0.81, 0.78, 0.79, 0.71, 0.73, 0.7 (selected values)\n",
      "- Gemini-v1.5 heatmap values: \n",
      "  - Example: 0.87, 0.79, 0.76, 0.76, 0.76 (selected values)\n",
      "- LLaVA-v1.5-7B heatmap values: \n",
      "  - Example: 0.87, 0.8, 0.61, 0.82, 0.71, 0.83\n",
      "\n",
      "### Analysis of the details in the image\n",
      "\n",
      "Each heatmap illustrates how raw accuracy varies with \"Needle Depth\" and \"Number of Images\" across different AI models. Higher needle depths with fewer images maintain higher accuracy, but as both increase, accuracy tends to drop, indicated by a shift to warmer colors (orange/red). The caption provides context that the \"needle position\" is crucial, highlighting performance drops when not optimized. The LLaVA-v1.5-7B plot shows gray areas, implying data is either missing or context length is exceeded, affecting performance assessments. The color gradient helps visualize accuracy levels, key for comparing models’ robustness over varying conditions.\n"
     ]
    }
   ],
   "source": [
    "\n",
    "print(image_to_description(\"image3.png\"))"
   ]
  },
  {
   "cell_type": "code",
   "execution_count": 23,
   "metadata": {},
   "outputs": [],
   "source": [
    "def image_to_description(image_path):\n",
    "\n",
    "    client = openai.OpenAI(api_key=os.getenv(\"OPENAI_API_KEY\"))\n",
    "    THIS_MODEL = \"gpt-4o\"\n",
    "    # Function to encode the image\n",
    "    def encode_image(image_path):\n",
    "        with open(image_path, \"rb\") as image_file:\n",
    "            return base64.b64encode(image_file.read()).decode('utf-8')\n",
    "\n",
    "    # image_path = \"image.png\"\n",
    "\n",
    "    # Getting the base64 string\n",
    "    base64_image = encode_image(image_path)\n",
    "\n",
    "    # Send the request to the API\n",
    "    response = client.chat.completions.create(\n",
    "            model=THIS_MODEL,\n",
    "            messages=[\n",
    "                {\n",
    "                    \"role\": \"system\",\n",
    "                    \"content\": [\n",
    "                        {\"type\": \"text\",\n",
    "                        \"text\": \"\"\"\n",
    "                        You are a part of the financial assistant built by our team. Your goal is to describe what is in the image provided as a file to the greatest detail possible. If it contains any numbers or has informatics, ypu should include that in your description. If it has any text, please include that as well. No information is too small. Please provide a detailed description of the image.\n",
    "                        You should include every little detail you can see in the image.\n",
    "                        You need to keep in mind that every text and number in the image is important.\n",
    "                        \n",
    "                        Format your response as follows, give me formatted in markdown:\n",
    "                        The below are the headings you should include in your response:\n",
    "                        - Detailed description of the image in high detail\n",
    "                        - Text in the image - Don't miss any text\n",
    "                        - Numbers in the image - This is very important\n",
    "                        - Analysis of the details in the image\n",
    "                        \n",
    "                        Strictly follow all the instructions given above.\n",
    "                        \"\"\"\n",
    "                        }\n",
    "                    ],\n",
    "                },\n",
    "                {\n",
    "                    \"role\": \"user\",\n",
    "                    \"content\": [\n",
    "                        {\n",
    "                            \"type\":\"text\",\n",
    "                            \"text\": \"Do your job on the image\"\n",
    "                            },\n",
    "                        {\n",
    "                            \"type\": \"image_url\",\n",
    "                            \"image_url\": \n",
    "                                {\n",
    "                                    \"url\": f\"data:image/jpeg;base64,{base64_image}\"\n",
    "                                }\n",
    "                        }\n",
    "                    ]\n",
    "                }\n",
    "            ],\n",
    "            max_tokens=3000\n",
    "        )\n",
    "    # print(f\"response: {response}\")\n",
    "    # Extract the description\n",
    "    description = response.choices[0].message.content\n",
    "    # print(f\"Desription: {description}\")\n",
    "    return description"
   ]
  },
  {
   "cell_type": "code",
   "execution_count": null,
   "metadata": {},
   "outputs": [],
   "source": []
  }
 ],
 "metadata": {
  "kernelspec": {
   "display_name": "harshit",
   "language": "python",
   "name": "python3"
  },
  "language_info": {
   "codemirror_mode": {
    "name": "ipython",
    "version": 3
   },
   "file_extension": ".py",
   "mimetype": "text/x-python",
   "name": "python",
   "nbconvert_exporter": "python",
   "pygments_lexer": "ipython3",
   "version": "3.11.10"
  }
 },
 "nbformat": 4,
 "nbformat_minor": 2
}
